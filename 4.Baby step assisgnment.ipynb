{
 "cells": [
  {
   "cell_type": "code",
   "execution_count": 1,
   "metadata": {},
   "outputs": [
    {
     "name": "stdout",
     "output_type": "stream",
     "text": [
      "Welcome to Assisgnment-1\n"
     ]
    }
   ],
   "source": [
    "print(\"Welcome to Assisgnment-1\")"
   ]
  },
  {
   "cell_type": "code",
   "execution_count": 3,
   "metadata": {},
   "outputs": [
    {
     "name": "stdout",
     "output_type": "stream",
     "text": [
      "num1: 10\n",
      "num2: 30\n",
      "Add: 40\n"
     ]
    }
   ],
   "source": [
    "num1=10\n",
    "print(\"num1:\",num1)\n",
    "num2=30\n",
    "print(\"num2:\",num2)\n",
    "Add=num1+num2\n",
    "print(\"Add:\",Add)"
   ]
  },
  {
   "cell_type": "code",
   "execution_count": 11,
   "metadata": {},
   "outputs": [
    {
     "name": "stdout",
     "output_type": "stream",
     "text": [
      "Enter the BMI index:34\n",
      "very overweight\n"
     ]
    }
   ],
   "source": [
    "BMI=int(input(\"Enter the BMI index:\"))\n",
    "if(BMI<=18):\n",
    "    print(\"under weight\")\n",
    "elif(BMI<=25):\n",
    "    print(\"normal\")\n",
    "elif(BMI<=30):\n",
    "    print(\"over weight\")\n",
    "else:\n",
    "    print(\"very overweight\")"
   ]
  },
  {
   "cell_type": "code",
   "execution_count": 12,
   "metadata": {},
   "outputs": [
    {
     "name": "stdout",
     "output_type": "stream",
     "text": [
      "Enter the BMI index:23\n",
      "normal\n"
     ]
    }
   ],
   "source": [
    "BMI=int(input(\"Enter the BMI index:\"))\n",
    "if(BMI<=18):\n",
    "    print(\"under weight\")\n",
    "elif(BMI<=25):\n",
    "    print(\"normal\")\n",
    "elif(BMI<=30):\n",
    "    print(\"over weight\")\n",
    "else:\n",
    "    print(\"very overweight\")"
   ]
  },
  {
   "cell_type": "code",
   "execution_count": 13,
   "metadata": {},
   "outputs": [
    {
     "name": "stdout",
     "output_type": "stream",
     "text": [
      "Enter the BMI index:28\n",
      "over weight\n"
     ]
    }
   ],
   "source": [
    "BMI=int(input(\"Enter the BMI index:\"))\n",
    "if(BMI<=18):\n",
    "    print(\"under weight\")\n",
    "elif(BMI<=25):\n",
    "    print(\"normal\")\n",
    "elif(BMI<=30):\n",
    "    print(\"over weight\")\n",
    "else:\n",
    "    print(\"very overweight\")"
   ]
  },
  {
   "cell_type": "code",
   "execution_count": 14,
   "metadata": {},
   "outputs": [
    {
     "name": "stdout",
     "output_type": "stream",
     "text": [
      "Enter the BMI index:31\n",
      "very overweight\n"
     ]
    }
   ],
   "source": [
    "BMI=int(input(\"Enter the BMI index:\"))\n",
    "if(BMI<=18):\n",
    "    print(\"under weight\")\n",
    "elif(BMI<=25):\n",
    "    print(\"normal\")\n",
    "elif(BMI<=30):\n",
    "    print(\"over weight\")\n",
    "else:\n",
    "    print(\"very overweight\")"
   ]
  },
  {
   "cell_type": "code",
   "execution_count": null,
   "metadata": {},
   "outputs": [],
   "source": []
  }
 ],
 "metadata": {
  "kernelspec": {
   "display_name": "Python 3",
   "language": "python",
   "name": "python3"
  },
  "language_info": {
   "codemirror_mode": {
    "name": "ipython",
    "version": 3
   },
   "file_extension": ".py",
   "mimetype": "text/x-python",
   "name": "python",
   "nbconvert_exporter": "python",
   "pygments_lexer": "ipython3",
   "version": "3.7.4"
  }
 },
 "nbformat": 4,
 "nbformat_minor": 2
}
